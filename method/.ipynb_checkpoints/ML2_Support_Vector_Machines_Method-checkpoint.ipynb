{
 "cells": [
  {
   "cell_type": "markdown",
   "metadata": {
    "id": "wZGSft1U8oHB"
   },
   "source": [
    "# Support Vector Machines Method\n",
    "\n",
    "#### - Danial Hawari [ lida1018 ] [ 67252 ]\n",
    "#### - Kai Li Ong  [ onka1012 ] [ 67254 ]"
   ]
  },
  {
   "cell_type": "code",
   "execution_count": 1,
   "metadata": {
    "id": "L1WtoaOHVrVh"
   },
   "outputs": [],
   "source": [
    "%matplotlib inline\n",
    "import matplotlib.pyplot as plt\n",
    "import numpy as np\n",
    "import os\n",
    "import cv2\n",
    "import PIL\n",
    "import pickle\n",
    "import random\n",
    "from sklearn.model_selection import train_test_split\n",
    "from sklearn.svm import SVC\n",
    "import pathlib"
   ]
  },
  {
   "cell_type": "code",
   "execution_count": 2,
   "metadata": {
    "id": "Ltkzh_om6ms_"
   },
   "outputs": [],
   "source": [
    "main_project_path = r\"C:\\Users\\danny\\OneDrive - bwedu\\EU4M MASTER SUBJECTS\\SEMESTER 2\\Kuenstliche Intelligenz\\AI\\ImageClassificationMethods\\dataset\"\n",
    "# main_project_path = r\"C:\\Users\\KylieOng\\Documents\\GitHub\\ImageClassificationMethods\"\n",
    "savepath = r\"C:\\Users\\danny\\OneDrive - bwedu\\EU4M MASTER SUBJECTS\\SEMESTER 2\\Kuenstliche Intelligenz\\AI\\ImageClassificationMethods\\\"C:\\Users\\danny\\OneDrive - bwedu\\EU4M MASTER SUBJECTS\\SEMESTER 2\\Kuenstliche Intelligenz\\AI\\ImageClassificationMethods\\feature\\Support_Vector_Machines_Data\"\n",
    "data_dir = pathlib.Path(main_project_path)"
   ]
  },
  {
   "cell_type": "code",
   "execution_count": 3,
   "metadata": {
    "colab": {
     "base_uri": "https://localhost:8080/",
     "height": 302
    },
    "executionInfo": {
     "elapsed": 53376,
     "status": "ok",
     "timestamp": 1624707333089,
     "user": {
      "displayName": "Danial Haris",
      "photoUrl": "https://lh3.googleusercontent.com/a-/AOh14Gj4LtJz3yX7MBGlDh8QcOt-wlSclvJZggruIhMzHw=s64",
      "userId": "15379519527823662783"
     },
     "user_tz": -120
    },
    "id": "8a7PAYi36utG",
    "outputId": "96511373-40e2-4445-bb38-61054070946a"
   },
   "outputs": [
    {
     "ename": "OSError",
     "evalue": "[Errno 22] Invalid argument: 'C:\\\\Users\\\\danny\\\\OneDrive - bwedu\\\\EU4M MASTER SUBJECTS\\\\SEMESTER 2\\\\Kuenstliche Intelligenz\\\\AI\\\\ImageClassificationMethods\\\\\"C:\\\\Users\\\\danny\\\\OneDrive - bwedu\\\\EU4M MASTER SUBJECTS\\\\SEMESTER 2\\\\Kuenstliche Intelligenz\\\\AI\\\\ImageClassificationMethods\\\\feature\\\\Support_Vector_Machines_Data\\\\data.pickle'",
     "output_type": "error",
     "traceback": [
      "\u001b[1;31m---------------------------------------------------------------------------\u001b[0m",
      "\u001b[1;31mOSError\u001b[0m                                   Traceback (most recent call last)",
      "\u001b[1;32m<ipython-input-3-05e608694e81>\u001b[0m in \u001b[0;36m<module>\u001b[1;34m\u001b[0m\n\u001b[0;32m     24\u001b[0m \u001b[0mpick_insert\u001b[0m\u001b[1;33m.\u001b[0m\u001b[0mclose\u001b[0m\u001b[1;33m(\u001b[0m\u001b[1;33m)\u001b[0m\u001b[1;33m\u001b[0m\u001b[1;33m\u001b[0m\u001b[0m\n\u001b[0;32m     25\u001b[0m \"\"\"\n\u001b[1;32m---> 26\u001b[1;33m \u001b[0mpick_read\u001b[0m \u001b[1;33m=\u001b[0m \u001b[0mopen\u001b[0m\u001b[1;33m(\u001b[0m\u001b[0msavepath\u001b[0m \u001b[1;33m+\u001b[0m \u001b[1;34m\"\\data.pickle\"\u001b[0m\u001b[1;33m,\u001b[0m\u001b[1;34m'rb'\u001b[0m\u001b[1;33m)\u001b[0m\u001b[1;33m\u001b[0m\u001b[1;33m\u001b[0m\u001b[0m\n\u001b[0m\u001b[0;32m     27\u001b[0m \u001b[0mdata\u001b[0m \u001b[1;33m=\u001b[0m \u001b[0mpickle\u001b[0m\u001b[1;33m.\u001b[0m\u001b[0mload\u001b[0m\u001b[1;33m(\u001b[0m\u001b[0mpick_read\u001b[0m\u001b[1;33m)\u001b[0m\u001b[1;33m\u001b[0m\u001b[1;33m\u001b[0m\u001b[0m\n\u001b[0;32m     28\u001b[0m \u001b[0mpick_in\u001b[0m\u001b[1;33m.\u001b[0m\u001b[0mclose\u001b[0m\u001b[1;33m(\u001b[0m\u001b[1;33m)\u001b[0m\u001b[1;33m\u001b[0m\u001b[1;33m\u001b[0m\u001b[0m\n",
      "\u001b[1;31mOSError\u001b[0m: [Errno 22] Invalid argument: 'C:\\\\Users\\\\danny\\\\OneDrive - bwedu\\\\EU4M MASTER SUBJECTS\\\\SEMESTER 2\\\\Kuenstliche Intelligenz\\\\AI\\\\ImageClassificationMethods\\\\\"C:\\\\Users\\\\danny\\\\OneDrive - bwedu\\\\EU4M MASTER SUBJECTS\\\\SEMESTER 2\\\\Kuenstliche Intelligenz\\\\AI\\\\ImageClassificationMethods\\\\feature\\\\Support_Vector_Machines_Data\\\\data.pickle'"
     ]
    }
   ],
   "source": [
    "\"\"\"\n",
    "categories = ['Buerste','Kamm']\n",
    "data = []\n",
    "\n",
    "for category in categories:\n",
    " new_path = os.path.join(data_dir,category)\n",
    " label = categories.index(category)\n",
    "\n",
    " for img in os.listdir(new_path):\n",
    "   imgpath = os.path.join(new_path,img)\n",
    "   imgtool = cv2.imread(imgpath,0)  #read image in grayscale mode\n",
    "   \n",
    "   try:\n",
    "     imgtool = cv2.resize(imgtool,(256,256)) #resize image into 256 x 256 pixel\n",
    "     image = np.array(imgtool).flatten() #convert image into 1D mode\n",
    "     data.append([image,label])\n",
    "   except Exception as e:\n",
    "    pass\n",
    "\n",
    "print(len(data))\n",
    "\n",
    "pick_insert = open(savepath + \"\\data.pickle\",'wb')\n",
    "pickle.dump(data, pick_insert)\n",
    "pick_insert.close()\n",
    "\"\"\"\n",
    "pick_read = open(savepath + \"\\data.pickle\",'rb')\n",
    "data = pickle.load(pick_read)\n",
    "pick_in.close()\n",
    "\n",
    "features = []\n",
    "labels = []\n",
    "\n",
    "for feature ,label in data:\n",
    "  features.append(feature)\n",
    "  labels.append(label)\n",
    "\n",
    "xtrain, xtest, ytrain, ytest = train_test_split(features, labels, test_size = 0.98)\n",
    "model = SVC( C = 1, kernel = 'poly', gamma = 'auto')\n",
    "model.fit(xtrain, ytrain)\n",
    "\n",
    "\"\"\"\n",
    "pick_new_insert = open(savepath + \"\\model_98.sav\",'wb')\n",
    "pickle.dump(model, pick_new_insert)\n",
    "pick_new_insert.close()\n",
    "\"\"\"\n",
    "pick_new_read = open(savepath + \"\\model_50.sav\",'rb')\n",
    "model = pickle.load(pick_new_read)\n",
    "pick_new_read.close()\n",
    "\n",
    "prediction = model.predict(xtest)\n",
    "accuracy = model.score(xtest,ytest)*100\n",
    "\n",
    "categories = ['Buerste','Kamm']\n",
    "\n",
    "print(\"Accuracy: \", accuracy)\n",
    "print(\"Prediction: \", categories[prediction[0]])\n",
    "\n",
    "image = xtest[0].reshape(256,256)\n",
    "plt.imshow(image)\n",
    "plt.show()\n",
    "#\"\"\"\n"
   ]
  }
 ],
 "metadata": {
  "colab": {
   "collapsed_sections": [],
   "name": "Support_Vector_Machines_Method.ipynb",
   "provenance": []
  },
  "kernelspec": {
   "display_name": "Python 3",
   "language": "python",
   "name": "python3"
  },
  "language_info": {
   "codemirror_mode": {
    "name": "ipython",
    "version": 3
   },
   "file_extension": ".py",
   "mimetype": "text/x-python",
   "name": "python",
   "nbconvert_exporter": "python",
   "pygments_lexer": "ipython3",
   "version": "3.8.8"
  }
 },
 "nbformat": 4,
 "nbformat_minor": 1
}
