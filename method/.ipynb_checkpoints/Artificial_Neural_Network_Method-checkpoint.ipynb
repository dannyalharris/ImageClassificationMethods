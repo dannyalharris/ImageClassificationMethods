{
 "cells": [
  {
   "cell_type": "code",
   "execution_count": null,
   "metadata": {
    "id": "9r48vE6htn8A"
   },
   "outputs": [],
   "source": [
    "https://iq.opengenus.org/basics-of-machine-learning-image-classification-techniques/\n",
    "https://medium.com/analytics-vidhya/image-classification-techniques-83fd87011cac"
   ]
  }
 ],
 "metadata": {
  "colab": {
   "authorship_tag": "ABX9TyMwOp4OVCyY9SS1TCFWsewr",
   "name": "Artificial_Neural_Network_Method.ipynb",
   "provenance": []
  },
  "kernelspec": {
   "display_name": "Python 3",
   "language": "python",
   "name": "python3"
  },
  "language_info": {
   "codemirror_mode": {
    "name": "ipython",
    "version": 3
   },
   "file_extension": ".py",
   "mimetype": "text/x-python",
   "name": "python",
   "nbconvert_exporter": "python",
   "pygments_lexer": "ipython3",
   "version": "3.8.8"
  }
 },
 "nbformat": 4,
 "nbformat_minor": 1
}
