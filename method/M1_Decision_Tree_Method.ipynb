{
 "cells": [
  {
   "cell_type": "code",
   "execution_count": 1,
   "metadata": {
    "pycharm": {
     "name": "#%% LIBRARIES\n"
    }
   },
   "outputs": [],
   "source": [
    "import pandas as pd\n",
    "import random\n",
    "import numpy as np\n",
    "import pprint"
   ]
  },
  {
   "cell_type": "code",
   "execution_count": 2,
   "metadata": {
    "pycharm": {
     "name": "#%% LOAD CSV DATA FOR DATA FRAME\n"
    }
   },
   "outputs": [],
   "source": [
    "# Load dataset features\n",
    "df = pd.read_csv('*\\ImageClassificationMethods\\feature\\feature.csv')"
   ]
  },
  {
   "cell_type": "code",
   "execution_count": 3,
   "metadata": {
    "pycharm": {
     "name": "#%% SPLIT DATA FRAME FOR TRAINING AND TESTING\n"
    }
   },
   "outputs": [],
   "source": [
    "def train_test_split(df, test_size):\n",
    "\n",
    "    if isinstance(test_size, float):\n",
    "        test_size = round(test_size * len(df)) #eg: test_size = 0.2 -> 20% x df\n",
    "\n",
    "    indices = df.index.tolist()\n",
    "    test_indices = random.sample(population=indices, k=test_size)\n",
    "\n",
    "    test_df = df.loc[test_indices]\n",
    "    train_df = df.drop(test_indices)\n",
    "\n",
    "    return train_df, test_df"
   ]
  },
  {
   "cell_type": "code",
   "execution_count": 4,
   "metadata": {
    "pycharm": {
     "name": "#%% IF THE DATA IS ALR PURE ( ONLY 1 CLASS IN THIS DATA SET)\n"
    }
   },
   "outputs": [],
   "source": [
    "def check_purity(data):\n",
    "\n",
    "    label_column = data[:, -1]\n",
    "    unique_classes = np.unique(label_column)\n",
    "\n",
    "    #unique_classes = 0 and 1 (kamm, burst) -> length = 2\n",
    "    #if length only 1 -> only 1 class -> data pure -> True\n",
    "    if len(unique_classes) == 1:\n",
    "        return True\n",
    "    else:\n",
    "        return False"
   ]
  },
  {
   "cell_type": "code",
   "execution_count": 5,
   "metadata": {
    "pycharm": {
     "name": "#%% CLASSIFYING DATA\n"
    }
   },
   "outputs": [],
   "source": [
    "def classify_data(data):\n",
    "\n",
    "    label_column = data[:, -1]\n",
    "    unique_classes, counts_unique_classes = np.unique(label_column, return_counts=True)\n",
    "\n",
    "    index = counts_unique_classes.argmax()\n",
    "    classification = unique_classes[index]\n",
    "\n",
    "    return classification"
   ]
  },
  {
   "cell_type": "code",
   "execution_count": 6,
   "metadata": {
    "pycharm": {
     "name": "#%% POTENTIAL SPLIT FOR NODE\n"
    }
   },
   "outputs": [],
   "source": [
    "def get_potential_splits(data):\n",
    "\n",
    "    potential_splits = {}\n",
    "    _, n_columns = data.shape\n",
    "    for column_index in range(n_columns - 1):        # excluding the last column which is the label\n",
    "        potential_splits[column_index] = []\n",
    "        values = data[:, column_index]\n",
    "        unique_values = np.unique(values)\n",
    "\n",
    "        for index in range(len(unique_values)):\n",
    "            if index != 0:\n",
    "                current_value = unique_values[index]\n",
    "                previous_value = unique_values[index - 1]\n",
    "                potential_split = (current_value + previous_value) / 2\n",
    "\n",
    "                potential_splits[column_index].append(potential_split)\n",
    "\n",
    "    return potential_splits"
   ]
  },
  {
   "cell_type": "code",
   "execution_count": 7,
   "metadata": {
    "pycharm": {
     "name": "#%% SPLIT DATA TO DETERMINE QUESTION/ NODE\n"
    }
   },
   "outputs": [],
   "source": [
    "def split_data(data, split_column, split_value):\n",
    "\n",
    "    split_column_values = data[:, split_column]\n",
    "\n",
    "    data_below = data[split_column_values <= split_value]\n",
    "    data_above = data[split_column_values >  split_value]\n",
    "\n",
    "    return data_below, data_above"
   ]
  },
  {
   "cell_type": "code",
   "execution_count": 8,
   "metadata": {
    "pycharm": {
     "name": "#%% CALCULATE THE ENTROPY\n"
    }
   },
   "outputs": [],
   "source": [
    "def calculate_entropy(data):\n",
    "\n",
    "    label_column = data[:, -1]\n",
    "    _, counts = np.unique(label_column, return_counts=True)\n",
    "\n",
    "    probabilities = counts / counts.sum()\n",
    "    entropy = sum(probabilities * -np.log2(probabilities))\n",
    "\n",
    "    return entropy"
   ]
  },
  {
   "cell_type": "code",
   "execution_count": 9,
   "metadata": {
    "pycharm": {
     "name": "#%% CALCULATE OVERALL ENTROPY FOR NODE\n"
    }
   },
   "outputs": [],
   "source": [
    "def calculate_overall_entropy(data_below, data_above):\n",
    "\n",
    "    n = len(data_below) + len(data_above)\n",
    "    p_data_below = len(data_below) / n\n",
    "    p_data_above = len(data_above) / n\n",
    "\n",
    "    overall_entropy =  (p_data_below * calculate_entropy(data_below)\n",
    "                      + p_data_above * calculate_entropy(data_above))\n",
    "\n",
    "    return overall_entropy"
   ]
  },
  {
   "cell_type": "code",
   "execution_count": 10,
   "metadata": {
    "pycharm": {
     "name": "#%% DETERMINE BEST SPLIT OR NODE\n"
    }
   },
   "outputs": [],
   "source": [
    "def determine_best_split(data, potential_splits):\n",
    "\n",
    "    overall_entropy = 9999\n",
    "    for column_index in potential_splits:\n",
    "        for value in potential_splits[column_index]:\n",
    "            data_below, data_above = split_data(data, split_column=column_index, split_value=value)\n",
    "            current_overall_entropy = calculate_overall_entropy(data_below, data_above)\n",
    "\n",
    "            if current_overall_entropy <= overall_entropy:\n",
    "                overall_entropy = current_overall_entropy\n",
    "                best_split_column = column_index\n",
    "                best_split_value = value\n",
    "\n",
    "    return best_split_column, best_split_value\n"
   ]
  },
  {
   "cell_type": "code",
   "execution_count": 11,
   "metadata": {
    "pycharm": {
     "name": "#%% DECISION TREE STRUCTURE\n"
    }
   },
   "outputs": [],
   "source": [
    "sub_tree = {\"question\": [\"yes_answer\",\n",
    "                         \"no_answer\"]}"
   ]
  },
  {
   "cell_type": "code",
   "execution_count": 12,
   "metadata": {
    "pycharm": {
     "name": "#%% DECISION TREE\n"
    }
   },
   "outputs": [],
   "source": [
    "def decision_tree_algorithm(df, counter=0, max_depth = 10):\n",
    "\n",
    "    # data preparations\n",
    "    if counter == 0:          #at first, data still data frame and it needs to be converted to the numpy 2Darray (without header)\n",
    "        global COLUMN_HEADERS\n",
    "        COLUMN_HEADERS = df.columns\n",
    "        data = df.values\n",
    "    else:\n",
    "        data = df\n",
    "\n",
    "\n",
    "    # base cases (stop condition so recursive not go infinitiv)\n",
    "    if (check_purity(data)) or (counter == max_depth):\n",
    "        classification = classify_data(data)\n",
    "        return classification\n",
    "\n",
    "\n",
    "    # recursive part\n",
    "    else:\n",
    "        counter += 1\n",
    "\n",
    "        # helper functions\n",
    "        potential_splits = get_potential_splits(data)\n",
    "        split_column, split_value = determine_best_split(data, potential_splits)\n",
    "        data_below, data_above = split_data(data, split_column, split_value)\n",
    "\n",
    "        # instantiate sub-tree\n",
    "        feature_name= COLUMN_HEADERS[split_column]\n",
    "        question = \"{} <= {}\".format(feature_name, split_value)\n",
    "        sub_tree = {question: []}\n",
    "\n",
    "        # find answers (recursion)\n",
    "        yes_answer = decision_tree_algorithm(data_below, counter, max_depth)\n",
    "        no_answer = decision_tree_algorithm(data_above, counter, max_depth)\n",
    "\n",
    "        if yes_answer == no_answer:\n",
    "          sub_tree = yes_answer\n",
    "        else:\n",
    "          sub_tree[question].append(yes_answer)\n",
    "          sub_tree[question].append(no_answer)\n",
    "\n",
    "        return sub_tree\n"
   ]
  },
  {
   "cell_type": "code",
   "execution_count": 13,
   "metadata": {
    "pycharm": {
     "name": "#%% CLASSIFICATION\n"
    }
   },
   "outputs": [],
   "source": [
    "def classify_example(example, tree):\n",
    "    question = list(tree.keys())[0]\n",
    "    feature_name, comparison_operator, value = question.split()\n",
    "\n",
    "    # ask question\n",
    "    if example[feature_name] <= float(value):\n",
    "        answer = tree[question][0]\n",
    "    else:\n",
    "        answer = tree[question][1]\n",
    "\n",
    "    # base case\n",
    "    if not isinstance(answer, dict):\n",
    "        return answer\n",
    "\n",
    "    # recursive part\n",
    "    else:\n",
    "        residual_tree = answer\n",
    "        return classify_example(example, residual_tree)"
   ]
  },
  {
   "cell_type": "code",
   "execution_count": 14,
   "metadata": {
    "pycharm": {
     "name": "#%% ACCURACY\n"
    }
   },
   "outputs": [],
   "source": [
    "def calculate_accuracy(df, tree):\n",
    "\n",
    "    df[\"classification\"] = df.apply(classify_example, axis=1, args=(tree,))\n",
    "    df[\"classification_correct\"] = df.classification == df.labels\n",
    "\n",
    "    accuracy = df[\"classification_correct\"].mean()\n",
    "\n",
    "    return accuracy"
   ]
  },
  {
   "cell_type": "code",
   "execution_count": 15,
   "metadata": {
    "pycharm": {
     "name": "#%% TESTING\n"
    }
   },
   "outputs": [
    {
     "name": "stdout",
     "output_type": "stream",
     "text": [
      "{'hull_rectangle_ratio <= 0.8077957415000001': [{'contour_length_area_ratio <= 0.037084545499999996': [{'contour_hull_length_ratio <= 1.1707387255000001': [1.0,\n",
      "                                                                                                                                                            {'contour_hull_length_ratio <= 1.2103389574999999': [0.0,\n",
      "                                                                                                                                                                                                                 1.0]}]},\n",
      "                                                                                                       {'contour_length_hull_area_ratio <= 0.07590293849999999': [{'hull_area <= 27251.75': [{'contour_hull_length_ratio <= 1.0966656425': [{'harris_corners <= 234.0': [{'contour_rect_length_ratio <= 0.9333884605': [0.0,\n",
      "                                                                                                                                                                                                                                                                                                                        {'contour_length_hull_area_ratio <= 0.040775609000000004': [0.0,\n",
      "                                                                                                                                                                                                                                                                                                                                                                                    1.0]}]},\n",
      "                                                                                                                                                                                                                                                                         0.0]},\n",
      "                                                                                                                                                                                                                                            0.0]},\n",
      "                                                                                                                                                                                             {'approximation_area <= 20661.0': [1.0,\n",
      "                                                                                                                                                                                                                                {'contour_rect_length_ratio <= 1.5296378705': [0.0,\n",
      "                                                                                                                                                                                                                                                                               {'extent <= 0.4749298205': [1.0,\n",
      "                                                                                                                                                                                                                                                                                                           0.0]}]}]}]},\n",
      "                                                                                                                                                                  {'solidity <= 0.7878038925': [{'extent <= 0.576932381': [{'corners <= 56.5': [{'contour_hull_length_ratio <= 1.1935456530000002': [1.0,\n",
      "                                                                                                                                                                                                                                                                                                     {'hull_rectangle_ratio <= 0.7660567109999998': [0.0,\n",
      "                                                                                                                                                                                                                                                                                                                                                     1.0]}]},\n",
      "                                                                                                                                                                                                                                                1.0]},\n",
      "                                                                                                                                                                                                                           0.0]},\n",
      "                                                                                                                                                                                                1.0]}]}]},\n",
      "                                                {'hull_area <= 61007.75': [{'harris_corners <= 1164.5': [{'hull_rectangle_ratio <= 0.839565337': [{'approximation_area <= 16743.25': [{'amount_contours <= 17.5': [{'contour_hull_length_ratio <= 1.7670344064999999': [0.0,\n",
      "                                                                                                                                                                                                                                                                        1.0]},\n",
      "                                                                                                                                                                                                                   {'solidity <= 0.7552759314999999': [{'hull_rectangle_ratio <= 0.828838575': [0.0,\n",
      "                                                                                                                                                                                                                                                                                                1.0]},\n",
      "                                                                                                                                                                                                                                                       1.0]}]},\n",
      "                                                                                                                                                                                      1.0]},\n",
      "                                                                                                                                                  {'solidity <= 0.959058045': [{'extent <= 0.7395448179999999': [1.0,\n",
      "                                                                                                                                                                                                                 {'ratio_wide_length <= 2.0319047645': [{'ratio_wide_length <= 0.483877974': [{'contour_length_hull_area_ratio <= 0.06363192200000001': [{'contour_length_rect_area_ratio <= 0.050824585': [1.0,\n",
      "                                                                                                                                                                                                                                                                                                                                                                                                            0.0]},\n",
      "                                                                                                                                                                                                                                                                                                                                                         1.0]},\n",
      "                                                                                                                                                                                                                                                                                              {'approximation_area <= 31730.25': [0.0,\n",
      "                                                                                                                                                                                                                                                                                                                                  1.0]}]},\n",
      "                                                                                                                                                                                                                                                        1.0]}]},\n",
      "                                                                                                                                                                               {'harris_corners <= 164.0': [{'harris_corners <= 160.5': [1.0,\n",
      "                                                                                                                                                                                                                                         0.0]},\n",
      "                                                                                                                                                                                                            1.0]}]}]},\n",
      "                                                                                                         0.0]},\n",
      "                                                                           {'harris_corners <= 263.0': [{'contour_hull_length_ratio <= 2.206227135': [{'corners <= 29.5': [{'amount_contours <= 3.5': [1.0,\n",
      "                                                                                                                                                                                                       0.0]},\n",
      "                                                                                                                                                                           {'amount_contours <= 2.5': [{'corners <= 38.5': [{'contour_length_area_ratio <= 0.0286672735': [{'harris_corners <= 139.0': [0.0,\n",
      "                                                                                                                                                                                                                                                                                                        {'hull_rectangle_ratio <= 0.999919262': [1.0,\n",
      "                                                                                                                                                                                                                                                                                                                                                 0.0]}]},\n",
      "                                                                                                                                                                                                                                                                           1.0]},\n",
      "                                                                                                                                                                                                                            {'solidity <= 0.662998348': [{'solidity <= 0.628212226': [0.0,\n",
      "                                                                                                                                                                                                                                                                                      1.0]},\n",
      "                                                                                                                                                                                                                                                         0.0]}]},\n",
      "                                                                                                                                                                                                       {'hull_rectangle_ratio <= 0.9875816995': [0.0,\n",
      "                                                                                                                                                                                                                                                 {'contour_points <= 1899.0': [{'hull_rectangle_ratio <= 0.9998154555': [{'solidity <= 0.7993157129999999': [1.0,\n",
      "                                                                                                                                                                                                                                                                                                                                                             0.0]},\n",
      "                                                                                                                                                                                                                                                                                                                         1.0]},\n",
      "                                                                                                                                                                                                                                                                               0.0]}]}]}]},\n",
      "                                                                                                                                                      1.0]},\n",
      "                                                                                                        {'amount_contours <= 1.5': [{'hull_rectangle_ratio <= 0.999784698': [1.0,\n",
      "                                                                                                                                                                             {'solidity <= 0.8698000770000001': [{'contour_hull_length_ratio <= 2.0001959655': [{'contour_hull_length_ratio <= 1.5211575825': [1.0,\n",
      "                                                                                                                                                                                                                                                                                                               {'contour_hull_length_ratio <= 1.5913671335000001': [0.0,\n",
      "                                                                                                                                                                                                                                                                                                                                                                    {'contour_points <= 1559.0': [1.0,\n",
      "                                                                                                                                                                                                                                                                                                                                                                                                  0.0]}]}]},\n",
      "                                                                                                                                                                                                                                                                1.0]},\n",
      "                                                                                                                                                                                                                 1.0]}]},\n",
      "                                                                                                                                    {'contour_points <= 1574.5': [{'extent <= 0.9755286425': [{'harris_corners <= 1236.5': [{'amount_contours <= 23.5': [{'contour_hull_length_ratio <= 1.6244520275': [1.0,\n",
      "                                                                                                                                                                                                                                                                                                        {'hull_rectangle_ratio <= 0.9966514070000001': [1.0,\n",
      "                                                                                                                                                                                                                                                                                                                                                        0.0]}]},\n",
      "                                                                                                                                                                                                                                                         0.0]},\n",
      "                                                                                                                                                                                                                            0.0]},\n",
      "                                                                                                                                                                                              0.0]},\n",
      "                                                                                                                                                                  {'harris_corners <= 634.0': [{'contour_hull_length_ratio <= 2.0501718154999997': [{'corners <= 46.0': [1.0,\n",
      "                                                                                                                                                                                                                                                                         {'contour_length_area_ratio <= 0.0320844905': [1.0,\n",
      "                                                                                                                                                                                                                                                                                                                        0.0]}]},\n",
      "                                                                                                                                                                                                                                                    1.0]},\n",
      "                                                                                                                                                                                               0.0]}]}]}]}]}]}\n"
     ]
    }
   ],
   "source": [
    "random.seed(0)\n",
    "train_df, test_df = train_test_split(df, 0.2)\n",
    "tree = decision_tree_algorithm(train_df)\n",
    "#tree = decision_tree_algorithm(train_df, max_depth=10)\n",
    "\n",
    "pprint.pprint(tree, width=50)\n",
    "\n",
    "#test_df"
   ]
  },
  {
   "cell_type": "code",
   "execution_count": 16,
   "metadata": {},
   "outputs": [
    {
     "name": "stdout",
     "output_type": "stream",
     "text": [
      "0.74375\n",
      "Accuracy:  74.375 %\n"
     ]
    }
   ],
   "source": [
    "accuracy = calculate_accuracy(test_df, tree)\n",
    "print(accuracy)\n",
    "accuracy_per = accuracy *100\n",
    "print(\"Accuracy: \", accuracy_per , \"%\")"
   ]
  },
  {
   "cell_type": "markdown",
   "metadata": {},
   "source": [
    "### Decision Tree with sklearn "
   ]
  },
  {
   "cell_type": "code",
   "execution_count": 17,
   "metadata": {},
   "outputs": [
    {
     "name": "stdout",
     "output_type": "stream",
     "text": [
      "X:  (799, 17) y:  (799,)\n"
     ]
    }
   ],
   "source": [
    "from sklearn.model_selection import train_test_split\n",
    "from sklearn.linear_model import LinearRegression\n",
    "from sklearn.metrics import mean_squared_error\n",
    "\n",
    "import matplotlib.pyplot as plt\n",
    "import sklearn\n",
    "import pandas as pd\n",
    "\n",
    "dataset = pd.read_csv('data.csv')\n",
    "\n",
    "X = dataset.iloc[:,:-1]\n",
    "y = dataset.iloc[:,-1]\n",
    "print('X: ', X.shape, 'y: ',y.shape)"
   ]
  },
  {
   "cell_type": "code",
   "execution_count": 18,
   "metadata": {},
   "outputs": [
    {
     "name": "stdout",
     "output_type": "stream",
     "text": [
      "X_train:  (639, 17) y_train:  (639,)\n",
      "X_test:  (160, 17) y_test: (160,)\n"
     ]
    }
   ],
   "source": [
    "from sklearn.model_selection import train_test_split\n",
    "\n",
    "X_train, X_test, y_train, y_test = train_test_split(X,y,test_size=0.2, random_state = 42)\n",
    "\n",
    "print('X_train: ', X_train.shape, 'y_train: ',y_train.shape)\n",
    "print('X_test: ', X_test.shape, 'y_test:', y_test.shape)"
   ]
  },
  {
   "cell_type": "code",
   "execution_count": 19,
   "metadata": {
    "pycharm": {
     "name": "#%% VALIDATION WITH SKLEARN\n"
    }
   },
   "outputs": [
    {
     "data": {
      "text/plain": [
       "DecisionTreeClassifier()"
      ]
     },
     "execution_count": 19,
     "metadata": {},
     "output_type": "execute_result"
    }
   ],
   "source": [
    "from sklearn.tree import DecisionTreeClassifier\n",
    "from sklearn import tree\n",
    "\n",
    "bktree_clf = DecisionTreeClassifier()\n",
    "\n",
    "bktree_clf.fit(X_train, y_train)"
   ]
  },
  {
   "cell_type": "code",
   "execution_count": 20,
   "metadata": {
    "pycharm": {
     "name": "#%% VALIDATION WITH SKLEARN\n"
    }
   },
   "outputs": [
    {
     "name": "stdout",
     "output_type": "stream",
     "text": [
      "[[58 19]\n",
      " [22 61]]\n"
     ]
    }
   ],
   "source": [
    "from sklearn.metrics import confusion_matrix\n",
    "\n",
    "print(confusion_matrix(test_df.labels, test_df.classification))\n"
   ]
  },
  {
   "cell_type": "code",
   "execution_count": 21,
   "metadata": {},
   "outputs": [
    {
     "data": {
      "text/plain": [
       "[Text(116.06442018072288, 209.6742857142857, 'X[16] <= 0.84\\ngini = 0.5\\nsamples = 639\\nvalue = [319, 320]'),\n",
       " Text(36.8078313253012, 194.14285714285714, 'X[9] <= 0.037\\ngini = 0.356\\nsamples = 229\\nvalue = [176, 53]'),\n",
       " Text(12.101204819277108, 178.61142857142858, 'X[8] <= 1.596\\ngini = 0.308\\nsamples = 21\\nvalue = [4, 17]'),\n",
       " Text(8.067469879518072, 163.07999999999998, 'X[15] <= 0.792\\ngini = 0.188\\nsamples = 19\\nvalue = [2, 17]'),\n",
       " Text(4.033734939759036, 147.54857142857142, 'gini = 0.0\\nsamples = 1\\nvalue = [1, 0]'),\n",
       " Text(12.101204819277108, 147.54857142857142, 'X[6] <= 34.0\\ngini = 0.105\\nsamples = 18\\nvalue = [1, 17]'),\n",
       " Text(8.067469879518072, 132.01714285714286, 'gini = 0.0\\nsamples = 1\\nvalue = [1, 0]'),\n",
       " Text(16.134939759036143, 132.01714285714286, 'gini = 0.0\\nsamples = 17\\nvalue = [0, 17]'),\n",
       " Text(16.134939759036143, 163.07999999999998, 'gini = 0.0\\nsamples = 2\\nvalue = [2, 0]'),\n",
       " Text(61.514457831325295, 178.61142857142858, 'X[11] <= 0.074\\ngini = 0.286\\nsamples = 208\\nvalue = [172, 36]'),\n",
       " Text(42.35421686746987, 163.07999999999998, 'X[3] <= 27251.75\\ngini = 0.178\\nsamples = 182\\nvalue = [164, 18]'),\n",
       " Text(28.23614457831325, 147.54857142857142, 'X[3] <= 6970.5\\ngini = 0.114\\nsamples = 165\\nvalue = [155, 10]'),\n",
       " Text(24.202409638554215, 132.01714285714286, 'gini = 0.0\\nsamples = 1\\nvalue = [0, 1]'),\n",
       " Text(32.26987951807229, 132.01714285714286, 'X[15] <= 0.971\\ngini = 0.104\\nsamples = 164\\nvalue = [155, 9]'),\n",
       " Text(28.23614457831325, 116.48571428571428, 'X[7] <= 72.5\\ngini = 0.093\\nsamples = 163\\nvalue = [155, 8]'),\n",
       " Text(24.202409638554215, 100.9542857142857, 'gini = 0.0\\nsamples = 1\\nvalue = [0, 1]'),\n",
       " Text(32.26987951807229, 100.9542857142857, 'X[1] <= 78.0\\ngini = 0.083\\nsamples = 162\\nvalue = [155, 7]'),\n",
       " Text(28.23614457831325, 85.42285714285714, 'X[16] <= 0.78\\ngini = 0.072\\nsamples = 161\\nvalue = [155, 6]'),\n",
       " Text(24.202409638554215, 69.89142857142858, 'gini = 0.0\\nsamples = 120\\nvalue = [120, 0]'),\n",
       " Text(32.26987951807229, 69.89142857142858, 'X[16] <= 0.781\\ngini = 0.25\\nsamples = 41\\nvalue = [35, 6]'),\n",
       " Text(28.23614457831325, 54.359999999999985, 'gini = 0.0\\nsamples = 2\\nvalue = [0, 2]'),\n",
       " Text(36.30361445783132, 54.359999999999985, 'X[7] <= 268.5\\ngini = 0.184\\nsamples = 39\\nvalue = [35, 4]'),\n",
       " Text(24.202409638554215, 38.82857142857142, 'X[7] <= 138.0\\ngini = 0.49\\nsamples = 7\\nvalue = [4, 3]'),\n",
       " Text(20.16867469879518, 23.29714285714286, 'gini = 0.0\\nsamples = 3\\nvalue = [3, 0]'),\n",
       " Text(28.23614457831325, 23.29714285714286, 'X[15] <= 0.789\\ngini = 0.375\\nsamples = 4\\nvalue = [1, 3]'),\n",
       " Text(24.202409638554215, 7.765714285714267, 'gini = 0.0\\nsamples = 1\\nvalue = [1, 0]'),\n",
       " Text(32.26987951807229, 7.765714285714267, 'gini = 0.0\\nsamples = 3\\nvalue = [0, 3]'),\n",
       " Text(48.40481927710843, 38.82857142857142, 'X[11] <= 0.039\\ngini = 0.061\\nsamples = 32\\nvalue = [31, 1]'),\n",
       " Text(44.371084337349394, 23.29714285714286, 'X[15] <= 0.828\\ngini = 0.5\\nsamples = 2\\nvalue = [1, 1]'),\n",
       " Text(40.33734939759036, 7.765714285714267, 'gini = 0.0\\nsamples = 1\\nvalue = [1, 0]'),\n",
       " Text(48.40481927710843, 7.765714285714267, 'gini = 0.0\\nsamples = 1\\nvalue = [0, 1]'),\n",
       " Text(52.438554216867466, 23.29714285714286, 'gini = 0.0\\nsamples = 30\\nvalue = [30, 0]'),\n",
       " Text(36.30361445783132, 85.42285714285714, 'gini = 0.0\\nsamples = 1\\nvalue = [0, 1]'),\n",
       " Text(36.30361445783132, 116.48571428571428, 'gini = 0.0\\nsamples = 1\\nvalue = [0, 1]'),\n",
       " Text(56.4722891566265, 147.54857142857142, 'X[10] <= 0.021\\ngini = 0.498\\nsamples = 17\\nvalue = [9, 8]'),\n",
       " Text(48.40481927710843, 132.01714285714286, 'X[2] <= 51127.5\\ngini = 0.219\\nsamples = 8\\nvalue = [7, 1]'),\n",
       " Text(44.371084337349394, 116.48571428571428, 'gini = 0.0\\nsamples = 1\\nvalue = [0, 1]'),\n",
       " Text(52.438554216867466, 116.48571428571428, 'gini = 0.0\\nsamples = 7\\nvalue = [7, 0]'),\n",
       " Text(64.53975903614457, 132.01714285714286, 'X[7] <= 798.5\\ngini = 0.346\\nsamples = 9\\nvalue = [2, 7]'),\n",
       " Text(60.50602409638554, 116.48571428571428, 'gini = 0.0\\nsamples = 7\\nvalue = [0, 7]'),\n",
       " Text(68.5734939759036, 116.48571428571428, 'gini = 0.0\\nsamples = 2\\nvalue = [2, 0]'),\n",
       " Text(80.67469879518072, 163.07999999999998, 'X[11] <= 0.091\\ngini = 0.426\\nsamples = 26\\nvalue = [8, 18]'),\n",
       " Text(76.64096385542169, 147.54857142857142, 'X[9] <= 0.102\\ngini = 0.5\\nsamples = 16\\nvalue = [8, 8]'),\n",
       " Text(72.60722891566265, 132.01714285714286, 'gini = 0.0\\nsamples = 5\\nvalue = [0, 5]'),\n",
       " Text(80.67469879518072, 132.01714285714286, 'X[16] <= 0.73\\ngini = 0.397\\nsamples = 11\\nvalue = [8, 3]'),\n",
       " Text(76.64096385542169, 116.48571428571428, 'gini = 0.0\\nsamples = 3\\nvalue = [0, 3]'),\n",
       " Text(84.70843373493975, 116.48571428571428, 'gini = 0.0\\nsamples = 8\\nvalue = [8, 0]'),\n",
       " Text(84.70843373493975, 147.54857142857142, 'gini = 0.0\\nsamples = 10\\nvalue = [0, 10]'),\n",
       " Text(195.32100903614457, 194.14285714285714, 'X[3] <= 60664.25\\ngini = 0.454\\nsamples = 410\\nvalue = [143, 267]'),\n",
       " Text(139.6680722891566, 178.61142857142858, 'X[7] <= 976.5\\ngini = 0.224\\nsamples = 218\\nvalue = [28, 190]'),\n",
       " Text(124.03734939759035, 163.07999999999998, 'X[2] <= 26782.326\\ngini = 0.181\\nsamples = 209\\nvalue = [21, 188]'),\n",
       " Text(104.87710843373493, 147.54857142857142, 'X[1] <= 7.5\\ngini = 0.068\\nsamples = 142\\nvalue = [5, 137]'),\n",
       " Text(96.80963855421686, 132.01714285714286, 'X[12] <= 0.949\\ngini = 0.018\\nsamples = 111\\nvalue = [1, 110]'),\n",
       " Text(92.77590361445783, 116.48571428571428, 'X[4] <= 10116.75\\ngini = 0.32\\nsamples = 5\\nvalue = [1, 4]'),\n",
       " Text(88.74216867469879, 100.9542857142857, 'gini = 0.0\\nsamples = 1\\nvalue = [1, 0]'),\n",
       " Text(96.80963855421686, 100.9542857142857, 'gini = 0.0\\nsamples = 4\\nvalue = [0, 4]'),\n",
       " Text(100.84337349397589, 116.48571428571428, 'gini = 0.0\\nsamples = 106\\nvalue = [0, 106]'),\n",
       " Text(112.944578313253, 132.01714285714286, 'X[16] <= 0.959\\ngini = 0.225\\nsamples = 31\\nvalue = [4, 27]'),\n",
       " Text(108.91084337349398, 116.48571428571428, 'X[5] <= 529.856\\ngini = 0.128\\nsamples = 29\\nvalue = [2, 27]'),\n",
       " Text(104.87710843373493, 100.9542857142857, 'X[13] <= 1.17\\ngini = 0.48\\nsamples = 5\\nvalue = [2, 3]'),\n",
       " Text(100.84337349397589, 85.42285714285714, 'gini = 0.0\\nsamples = 3\\nvalue = [0, 3]'),\n",
       " Text(108.91084337349398, 85.42285714285714, 'gini = 0.0\\nsamples = 2\\nvalue = [2, 0]'),\n",
       " Text(112.944578313253, 100.9542857142857, 'gini = 0.0\\nsamples = 24\\nvalue = [0, 24]'),\n",
       " Text(116.97831325301203, 116.48571428571428, 'gini = 0.0\\nsamples = 2\\nvalue = [2, 0]'),\n",
       " Text(143.19759036144578, 147.54857142857142, 'X[3] <= 34281.5\\ngini = 0.364\\nsamples = 67\\nvalue = [16, 51]'),\n",
       " Text(129.07951807228915, 132.01714285714286, 'X[13] <= 1.021\\ngini = 0.486\\nsamples = 36\\nvalue = [15, 21]'),\n",
       " Text(125.04578313253012, 116.48571428571428, 'gini = 0.0\\nsamples = 12\\nvalue = [0, 12]'),\n",
       " Text(133.11325301204818, 116.48571428571428, 'X[10] <= 0.03\\ngini = 0.469\\nsamples = 24\\nvalue = [15, 9]'),\n",
       " Text(125.04578313253012, 100.9542857142857, 'X[6] <= 47.5\\ngini = 0.291\\nsamples = 17\\nvalue = [14, 3]'),\n",
       " Text(121.01204819277108, 85.42285714285714, 'X[9] <= 0.028\\ngini = 0.5\\nsamples = 6\\nvalue = [3, 3]'),\n",
       " Text(116.97831325301203, 69.89142857142858, 'gini = 0.0\\nsamples = 3\\nvalue = [3, 0]'),\n",
       " Text(125.04578313253012, 69.89142857142858, 'gini = 0.0\\nsamples = 3\\nvalue = [0, 3]'),\n",
       " Text(129.07951807228915, 85.42285714285714, 'gini = 0.0\\nsamples = 11\\nvalue = [11, 0]'),\n",
       " Text(141.18072289156626, 100.9542857142857, 'X[15] <= 0.749\\ngini = 0.245\\nsamples = 7\\nvalue = [1, 6]'),\n",
       " Text(137.1469879518072, 85.42285714285714, 'gini = 0.0\\nsamples = 1\\nvalue = [1, 0]'),\n",
       " Text(145.2144578313253, 85.42285714285714, 'gini = 0.0\\nsamples = 6\\nvalue = [0, 6]'),\n",
       " Text(157.3156626506024, 132.01714285714286, 'X[8] <= 0.578\\ngini = 0.062\\nsamples = 31\\nvalue = [1, 30]'),\n",
       " Text(153.28192771084338, 116.48571428571428, 'X[8] <= 0.551\\ngini = 0.5\\nsamples = 2\\nvalue = [1, 1]'),\n",
       " Text(149.24819277108432, 100.9542857142857, 'gini = 0.0\\nsamples = 1\\nvalue = [0, 1]'),\n",
       " Text(157.3156626506024, 100.9542857142857, 'gini = 0.0\\nsamples = 1\\nvalue = [1, 0]'),\n",
       " Text(161.34939759036143, 116.48571428571428, 'gini = 0.0\\nsamples = 29\\nvalue = [0, 29]'),\n",
       " Text(155.2987951807229, 163.07999999999998, 'X[2] <= 45390.0\\ngini = 0.346\\nsamples = 9\\nvalue = [7, 2]'),\n",
       " Text(151.26506024096383, 147.54857142857142, 'gini = 0.0\\nsamples = 7\\nvalue = [7, 0]'),\n",
       " Text(159.33253012048192, 147.54857142857142, 'gini = 0.0\\nsamples = 2\\nvalue = [0, 2]'),\n",
       " Text(250.9739457831325, 178.61142857142858, 'X[7] <= 274.0\\ngini = 0.48\\nsamples = 192\\nvalue = [115, 77]'),\n",
       " Text(210.51054216867468, 163.07999999999998, 'X[6] <= 29.5\\ngini = 0.367\\nsamples = 99\\nvalue = [75, 24]'),\n",
       " Text(194.62771084337348, 147.54857142857142, 'X[1] <= 3.5\\ngini = 0.198\\nsamples = 9\\nvalue = [1, 8]'),\n",
       " Text(190.59397590361445, 132.01714285714286, 'gini = 0.0\\nsamples = 8\\nvalue = [0, 8]'),\n",
       " Text(198.6614457831325, 132.01714285714286, 'gini = 0.0\\nsamples = 1\\nvalue = [1, 0]'),\n",
       " Text(226.3933734939759, 147.54857142857142, 'X[9] <= 0.042\\ngini = 0.292\\nsamples = 90\\nvalue = [74, 16]'),\n",
       " Text(206.7289156626506, 132.01714285714286, 'X[1] <= 2.5\\ngini = 0.23\\nsamples = 83\\nvalue = [72, 11]'),\n",
       " Text(183.53493975903612, 116.48571428571428, 'X[6] <= 38.5\\ngini = 0.159\\nsamples = 69\\nvalue = [63, 6]'),\n",
       " Text(165.38313253012046, 100.9542857142857, 'X[13] <= 1.001\\ngini = 0.332\\nsamples = 19\\nvalue = [15, 4]'),\n",
       " Text(161.34939759036143, 85.42285714285714, 'gini = 0.0\\nsamples = 1\\nvalue = [0, 1]'),\n",
       " Text(169.4168674698795, 85.42285714285714, 'X[14] <= 0.765\\ngini = 0.278\\nsamples = 18\\nvalue = [15, 3]'),\n",
       " Text(165.38313253012046, 69.89142857142858, 'gini = 0.0\\nsamples = 1\\nvalue = [0, 1]'),\n",
       " Text(173.45060240963855, 69.89142857142858, 'X[13] <= 1.529\\ngini = 0.208\\nsamples = 17\\nvalue = [15, 2]'),\n",
       " Text(169.4168674698795, 54.359999999999985, 'gini = 0.0\\nsamples = 11\\nvalue = [11, 0]'),\n",
       " Text(177.48433734939758, 54.359999999999985, 'X[5] <= 1617.018\\ngini = 0.444\\nsamples = 6\\nvalue = [4, 2]'),\n",
       " Text(173.45060240963855, 38.82857142857142, 'gini = 0.0\\nsamples = 2\\nvalue = [0, 2]'),\n",
       " Text(181.5180722891566, 38.82857142857142, 'gini = 0.0\\nsamples = 4\\nvalue = [4, 0]'),\n",
       " Text(201.68674698795178, 100.9542857142857, 'X[7] <= 254.0\\ngini = 0.077\\nsamples = 50\\nvalue = [48, 2]'),\n",
       " Text(193.61927710843372, 85.42285714285714, 'X[16] <= 0.984\\ngini = 0.042\\nsamples = 47\\nvalue = [46, 1]'),\n",
       " Text(189.5855421686747, 69.89142857142858, 'X[3] <= 63750.5\\ngini = 0.444\\nsamples = 3\\nvalue = [2, 1]'),\n",
       " Text(185.55180722891566, 54.359999999999985, 'gini = 0.0\\nsamples = 2\\nvalue = [2, 0]'),\n",
       " Text(193.61927710843372, 54.359999999999985, 'gini = 0.0\\nsamples = 1\\nvalue = [0, 1]'),\n",
       " Text(197.65301204819275, 69.89142857142858, 'gini = 0.0\\nsamples = 44\\nvalue = [44, 0]'),\n",
       " Text(209.75421686746986, 85.42285714285714, 'X[14] <= 0.761\\ngini = 0.444\\nsamples = 3\\nvalue = [2, 1]'),\n",
       " Text(205.72048192771084, 69.89142857142858, 'gini = 0.0\\nsamples = 2\\nvalue = [2, 0]'),\n",
       " Text(213.7879518072289, 69.89142857142858, 'gini = 0.0\\nsamples = 1\\nvalue = [0, 1]'),\n",
       " Text(229.92289156626504, 116.48571428571428, 'X[16] <= 1.0\\ngini = 0.459\\nsamples = 14\\nvalue = [9, 5]'),\n",
       " Text(221.85542168674698, 100.9542857142857, 'X[15] <= 0.714\\ngini = 0.198\\nsamples = 9\\nvalue = [8, 1]'),\n",
       " Text(217.82168674698795, 85.42285714285714, 'gini = 0.0\\nsamples = 1\\nvalue = [0, 1]'),\n",
       " Text(225.889156626506, 85.42285714285714, 'gini = 0.0\\nsamples = 8\\nvalue = [8, 0]'),\n",
       " Text(237.99036144578312, 100.9542857142857, 'X[10] <= 0.032\\ngini = 0.32\\nsamples = 5\\nvalue = [1, 4]'),\n",
       " Text(233.95662650602407, 85.42285714285714, 'gini = 0.0\\nsamples = 4\\nvalue = [0, 4]'),\n",
       " Text(242.02409638554215, 85.42285714285714, 'gini = 0.0\\nsamples = 1\\nvalue = [1, 0]'),\n",
       " Text(246.05783132530118, 132.01714285714286, 'X[6] <= 60.0\\ngini = 0.408\\nsamples = 7\\nvalue = [2, 5]'),\n",
       " Text(242.02409638554215, 116.48571428571428, 'gini = 0.0\\nsamples = 4\\nvalue = [0, 4]'),\n",
       " Text(250.09156626506024, 116.48571428571428, 'X[9] <= 0.044\\ngini = 0.444\\nsamples = 3\\nvalue = [2, 1]'),\n",
       " Text(246.05783132530118, 100.9542857142857, 'gini = 0.0\\nsamples = 1\\nvalue = [0, 1]'),\n",
       " Text(254.12530120481927, 100.9542857142857, 'gini = 0.0\\nsamples = 2\\nvalue = [2, 0]'),\n",
       " Text(291.43734939759037, 163.07999999999998, 'X[6] <= 53.0\\ngini = 0.49\\nsamples = 93\\nvalue = [40, 53]'),\n",
       " Text(270.2602409638554, 147.54857142857142, 'X[13] <= 1.398\\ngini = 0.284\\nsamples = 35\\nvalue = [6, 29]'),\n",
       " Text(262.1927710843373, 132.01714285714286, 'X[2] <= 65024.992\\ngini = 0.375\\nsamples = 4\\nvalue = [3, 1]'),\n",
       " Text(258.1590361445783, 116.48571428571428, 'gini = 0.0\\nsamples = 1\\nvalue = [0, 1]'),\n",
       " Text(266.22650602409635, 116.48571428571428, 'gini = 0.0\\nsamples = 3\\nvalue = [3, 0]'),\n",
       " Text(278.3277108433735, 132.01714285714286, 'X[9] <= 0.031\\ngini = 0.175\\nsamples = 31\\nvalue = [3, 28]'),\n",
       " Text(274.2939759036144, 116.48571428571428, 'X[13] <= 1.619\\ngini = 0.355\\nsamples = 13\\nvalue = [3, 10]'),\n",
       " Text(266.22650602409635, 100.9542857142857, 'X[0] <= 1528.5\\ngini = 0.18\\nsamples = 10\\nvalue = [1, 9]'),\n",
       " Text(262.1927710843373, 85.42285714285714, 'gini = 0.0\\nsamples = 6\\nvalue = [0, 6]'),\n",
       " Text(270.2602409638554, 85.42285714285714, 'X[0] <= 1537.0\\ngini = 0.375\\nsamples = 4\\nvalue = [1, 3]'),\n",
       " Text(266.22650602409635, 69.89142857142858, 'gini = 0.0\\nsamples = 1\\nvalue = [1, 0]'),\n",
       " Text(274.2939759036144, 69.89142857142858, 'gini = 0.0\\nsamples = 3\\nvalue = [0, 3]'),\n",
       " Text(282.3614457831325, 100.9542857142857, 'X[5] <= 1698.718\\ngini = 0.444\\nsamples = 3\\nvalue = [2, 1]'),\n",
       " Text(278.3277108433735, 85.42285714285714, 'gini = 0.0\\nsamples = 2\\nvalue = [2, 0]'),\n",
       " Text(286.39518072289155, 85.42285714285714, 'gini = 0.0\\nsamples = 1\\nvalue = [0, 1]'),\n",
       " Text(282.3614457831325, 116.48571428571428, 'gini = 0.0\\nsamples = 18\\nvalue = [0, 18]'),\n",
       " Text(312.6144578313253, 147.54857142857142, 'X[11] <= 0.025\\ngini = 0.485\\nsamples = 58\\nvalue = [34, 24]'),\n",
       " Text(298.49638554216864, 132.01714285714286, 'X[4] <= 64105.75\\ngini = 0.42\\nsamples = 20\\nvalue = [6, 14]'),\n",
       " Text(294.4626506024096, 116.48571428571428, 'X[1] <= 2.0\\ngini = 0.291\\nsamples = 17\\nvalue = [3, 14]'),\n",
       " Text(290.4289156626506, 100.9542857142857, 'gini = 0.0\\nsamples = 1\\nvalue = [1, 0]'),\n",
       " Text(298.49638554216864, 100.9542857142857, 'X[1] <= 24.0\\ngini = 0.219\\nsamples = 16\\nvalue = [2, 14]'),\n",
       " Text(294.4626506024096, 85.42285714285714, 'X[4] <= 63557.75\\ngini = 0.124\\nsamples = 15\\nvalue = [1, 14]'),\n",
       " Text(290.4289156626506, 69.89142857142858, 'gini = 0.0\\nsamples = 13\\nvalue = [0, 13]'),\n",
       " Text(298.49638554216864, 69.89142857142858, 'X[14] <= 0.982\\ngini = 0.5\\nsamples = 2\\nvalue = [1, 1]'),\n",
       " Text(294.4626506024096, 54.359999999999985, 'gini = 0.0\\nsamples = 1\\nvalue = [1, 0]'),\n",
       " Text(302.53012048192767, 54.359999999999985, 'gini = 0.0\\nsamples = 1\\nvalue = [0, 1]'),\n",
       " Text(302.53012048192767, 85.42285714285714, 'gini = 0.0\\nsamples = 1\\nvalue = [1, 0]'),\n",
       " Text(302.53012048192767, 116.48571428571428, 'gini = 0.0\\nsamples = 3\\nvalue = [3, 0]'),\n",
       " Text(326.7325301204819, 132.01714285714286, 'X[0] <= 2127.5\\ngini = 0.388\\nsamples = 38\\nvalue = [28, 10]'),\n",
       " Text(322.69879518072287, 116.48571428571428, 'X[1] <= 2.5\\ngini = 0.291\\nsamples = 34\\nvalue = [28, 6]'),\n",
       " Text(318.66506024096384, 100.9542857142857, 'X[6] <= 66.5\\ngini = 0.469\\nsamples = 16\\nvalue = [10, 6]'),\n",
       " Text(310.5975903614458, 85.42285714285714, 'X[6] <= 55.0\\ngini = 0.32\\nsamples = 5\\nvalue = [1, 4]'),\n",
       " Text(306.56385542168675, 69.89142857142858, 'gini = 0.0\\nsamples = 1\\nvalue = [1, 0]'),\n",
       " Text(314.6313253012048, 69.89142857142858, 'gini = 0.0\\nsamples = 4\\nvalue = [0, 4]'),\n",
       " Text(326.7325301204819, 85.42285714285714, 'X[14] <= 0.801\\ngini = 0.298\\nsamples = 11\\nvalue = [9, 2]'),\n",
       " Text(322.69879518072287, 69.89142857142858, 'gini = 0.0\\nsamples = 9\\nvalue = [9, 0]'),\n",
       " Text(330.7662650602409, 69.89142857142858, 'gini = 0.0\\nsamples = 2\\nvalue = [0, 2]'),\n",
       " Text(326.7325301204819, 100.9542857142857, 'gini = 0.0\\nsamples = 18\\nvalue = [18, 0]'),\n",
       " Text(330.7662650602409, 116.48571428571428, 'gini = 0.0\\nsamples = 4\\nvalue = [0, 4]')]"
      ]
     },
     "execution_count": 21,
     "metadata": {},
     "output_type": "execute_result"
    },
    {
     "data": {
      "image/png": "[encoded data removed]",
      "text/plain": [
       "<Figure size 432x288 with 1 Axes>"
      ]
     },
     "metadata": {
      "needs_background": "light"
     },
     "output_type": "display_data"
    }
   ],
   "source": [
    "tree.plot_tree(bktree_clf)"
   ]
  },
  {
   "cell_type": "code",
   "execution_count": 22,
   "metadata": {},
   "outputs": [
    {
     "name": "stdout",
     "output_type": "stream",
     "text": [
      "Accuracy Decision Tree:  0.8125\n"
     ]
    }
   ],
   "source": [
    "print('Accuracy Decision Tree: ', bktree_clf.score(X_test,y_test))"
   ]
  },
  {
   "cell_type": "code",
   "execution_count": null,
   "metadata": {},
   "outputs": [],
   "source": []
  }
 ],
 "metadata": {
  "kernelspec": {
   "display_name": "Python 3",
   "language": "python",
   "name": "python3"
  },
  "language_info": {
   "codemirror_mode": {
    "name": "ipython",
    "version": 3
   },
   "file_extension": ".py",
   "mimetype": "text/x-python",
   "name": "python",
   "nbconvert_exporter": "python",
   "pygments_lexer": "ipython3",
   "version": "3.8.8"
  }
 },
 "nbformat": 4,
 "nbformat_minor": 1
}
