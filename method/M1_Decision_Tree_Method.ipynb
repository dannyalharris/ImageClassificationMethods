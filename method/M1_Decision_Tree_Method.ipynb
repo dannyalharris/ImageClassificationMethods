{
 "cells": [
  {
   "cell_type": "markdown",
   "metadata": {},
   "source": [
    "# Decision Tree\n",
    "\n",
    "### Author: Danial Haris (lida1018 - 67252) & Kai Li Ong (onka1012 - 67254)"
   ]
  },
  {
   "cell_type": "markdown",
   "metadata": {},
   "source": [
    "A decision tree is a decision support tool that uses a tree-like model of decisions and their possible consquences."
   ]
  },
  {
   "cell_type": "code",
   "execution_count": 1,
   "metadata": {
    "pycharm": {
     "name": "#%% LIBRARIES\n"
    }
   },
   "outputs": [],
   "source": [
    "import pandas as pd\n",
    "import numpy as np\n",
    "import random\n",
    "import pprint\n",
    "import os"
   ]
  },
  {
   "cell_type": "code",
   "execution_count": 2,
   "metadata": {
    "pycharm": {
     "name": "#%% LOAD CSV DATA FOR DATA FRAME\n"
    }
   },
   "outputs": [],
   "source": [
    "# Load dataset features\n",
    "\n",
    "# main_project_path = r\"C:\\Users\\danny\\OneDrive - bwedu\\EU4M MASTER SUBJECTS\\SEMESTER 2\\Kuenstliche Intelligenz\\AI\\ImageClassificationMethods\"\n",
    "main_project_path = r\"C:\\Users\\KylieOng\\Documents\\GitHub\\ImageClassificationMethods\"\n",
    "image_folder = os.path.join(main_project_path,\"dataset\")\n",
    "feature_path = os.path.join(main_project_path,\"feature\",\"feature.csv\")\n",
    "\n",
    "df = pd.read_csv(feature_path)"
   ]
  },
  {
   "cell_type": "code",
   "execution_count": 3,
   "metadata": {
    "pycharm": {
     "name": "#%% SPLIT DATA FRAME FOR TRAINING AND TESTING\n"
    }
   },
   "outputs": [],
   "source": [
    "# Split a dataset into train and test\n",
    "def train_test_split(df, test_size):\n",
    "\n",
    "    if isinstance(test_size, float):\n",
    "        test_size = round(test_size * len(df)) #eg: test_size = 0.2 -> 20% x df\n",
    "\n",
    "    indices = df.index.tolist()\n",
    "    test_indices = random.sample(population=indices, k=test_size)\n",
    "\n",
    "    test_df = df.loc[test_indices]\n",
    "    train_df = df.drop(test_indices)\n",
    "\n",
    "    return train_df, test_df"
   ]
  },
  {
   "cell_type": "code",
   "execution_count": 4,
   "metadata": {
    "pycharm": {
     "name": "#%% IF THE DATA IS ALR PURE ( ONLY 1 CLASS IN THIS DATA SET)\n"
    }
   },
   "outputs": [],
   "source": [
    "def check_purity(data):\n",
    "\n",
    "    label_column = data[:, -1]\n",
    "    unique_classes = np.unique(label_column)\n",
    "\n",
    "    #if length only 1 -> only 1 class -> data pure -> True\n",
    "    if len(unique_classes) == 1:\n",
    "        return True\n",
    "    else:\n",
    "        return False"
   ]
  },
  {
   "cell_type": "code",
   "execution_count": 5,
   "metadata": {
    "pycharm": {
     "name": "#%% CLASSIFYING DATA\n"
    }
   },
   "outputs": [],
   "source": [
    "def classify_data(data):\n",
    "\n",
    "    label_column = data[:, -1]\n",
    "    unique_classes, counts_unique_classes = np.unique(label_column, return_counts=True)\n",
    "\n",
    "    index = counts_unique_classes.argmax()\n",
    "    classification = unique_classes[index]\n",
    "\n",
    "    return classification"
   ]
  },
  {
   "cell_type": "code",
   "execution_count": 6,
   "metadata": {
    "pycharm": {
     "name": "#%% POTENTIAL SPLIT FOR NODE\n"
    }
   },
   "outputs": [],
   "source": [
    "def get_potential_splits(data):\n",
    "\n",
    "    potential_splits = {}\n",
    "    _, n_columns = data.shape\n",
    "    for column_index in range(n_columns - 1):        # excluding the last column which is the label\n",
    "        potential_splits[column_index] = []\n",
    "        values = data[:, column_index]\n",
    "        unique_values = np.unique(values)\n",
    "\n",
    "        for index in range(len(unique_values)):\n",
    "            if index != 0:\n",
    "                current_value = unique_values[index]\n",
    "                previous_value = unique_values[index - 1]\n",
    "                potential_split = (current_value + previous_value) / 2\n",
    "\n",
    "                potential_splits[column_index].append(potential_split)\n",
    "\n",
    "    return potential_splits"
   ]
  },
  {
   "cell_type": "code",
   "execution_count": 7,
   "metadata": {
    "pycharm": {
     "name": "#%% SPLIT DATA TO DETERMINE QUESTION/ NODE\n"
    }
   },
   "outputs": [],
   "source": [
    "def split_data(data, split_column, split_value):\n",
    "\n",
    "    split_column_values = data[:, split_column]\n",
    "\n",
    "    data_below = data[split_column_values <= split_value]\n",
    "    data_above = data[split_column_values >  split_value]\n",
    "\n",
    "    return data_below, data_above"
   ]
  },
  {
   "cell_type": "code",
   "execution_count": 8,
   "metadata": {
    "pycharm": {
     "name": "#%% CALCULATE THE ENTROPY\n"
    }
   },
   "outputs": [],
   "source": [
    "def calculate_entropy(data):\n",
    "\n",
    "    label_column = data[:, -1]\n",
    "    _, counts = np.unique(label_column, return_counts=True)\n",
    "\n",
    "    probabilities = counts / counts.sum()\n",
    "    entropy = sum(probabilities * -np.log2(probabilities))\n",
    "\n",
    "    return entropy"
   ]
  },
  {
   "cell_type": "code",
   "execution_count": 9,
   "metadata": {
    "pycharm": {
     "name": "#%% CALCULATE OVERALL ENTROPY FOR NODE\n"
    }
   },
   "outputs": [],
   "source": [
    "def calculate_overall_entropy(data_below, data_above):\n",
    "\n",
    "    n = len(data_below) + len(data_above)\n",
    "    p_data_below = len(data_below) / n\n",
    "    p_data_above = len(data_above) / n\n",
    "\n",
    "    overall_entropy =  (p_data_below * calculate_entropy(data_below)\n",
    "                      + p_data_above * calculate_entropy(data_above))\n",
    "\n",
    "    return overall_entropy"
   ]
  },
  {
   "cell_type": "code",
   "execution_count": 10,
   "metadata": {
    "pycharm": {
     "name": "#%% DETERMINE BEST SPLIT OR NODE\n"
    }
   },
   "outputs": [],
   "source": [
    "def determine_best_split(data, potential_splits):\n",
    "\n",
    "    overall_entropy = 9999\n",
    "    for column_index in potential_splits:\n",
    "        for value in potential_splits[column_index]:\n",
    "            data_below, data_above = split_data(data, split_column=column_index, split_value=value)\n",
    "            current_overall_entropy = calculate_overall_entropy(data_below, data_above)\n",
    "\n",
    "            if current_overall_entropy <= overall_entropy:\n",
    "                overall_entropy = current_overall_entropy\n",
    "                best_split_column = column_index\n",
    "                best_split_value = value\n",
    "\n",
    "    return best_split_column, best_split_value\n"
   ]
  },
  {
   "cell_type": "code",
   "execution_count": 11,
   "metadata": {
    "pycharm": {
     "name": "#%% DECISION TREE STRUCTURE\n"
    }
   },
   "outputs": [],
   "source": [
    "sub_tree = {\"question\": [\"yes_answer\",\n",
    "                         \"no_answer\"]}"
   ]
  },
  {
   "cell_type": "markdown",
   "metadata": {},
   "source": [
    "#### Decision Tree Algorithm"
   ]
  },
  {
   "cell_type": "code",
   "execution_count": 12,
   "metadata": {
    "pycharm": {
     "name": "#%% DECISION TREE\n"
    }
   },
   "outputs": [],
   "source": [
    "def decision_tree_algorithm(df, counter=0, max_depth = 10):\n",
    "\n",
    "    # data preparations\n",
    "    if counter == 0:          #at first, data still data frame and it needs to be converted to the numpy 2Darray (without header)\n",
    "        global COLUMN_HEADERS\n",
    "        COLUMN_HEADERS = df.columns\n",
    "        data = df.values\n",
    "    else:\n",
    "        data = df\n",
    "\n",
    "\n",
    "    # base cases (stop condition so recursive not go infinitiv)\n",
    "    if (check_purity(data)) or (counter == max_depth):\n",
    "        classification = classify_data(data)\n",
    "        return classification\n",
    "\n",
    "\n",
    "    # recursive part\n",
    "    else:\n",
    "        counter += 1\n",
    "\n",
    "        # helper functions\n",
    "        potential_splits = get_potential_splits(data)\n",
    "        split_column, split_value = determine_best_split(data, potential_splits)\n",
    "        data_below, data_above = split_data(data, split_column, split_value)\n",
    "\n",
    "        # instantiate sub-tree\n",
    "        feature_name= COLUMN_HEADERS[split_column]\n",
    "        question = \"{} <= {}\".format(feature_name, split_value)\n",
    "        sub_tree = {question: []}\n",
    "\n",
    "        # find answers (recursion)\n",
    "        yes_answer = decision_tree_algorithm(data_below, counter, max_depth)\n",
    "        no_answer = decision_tree_algorithm(data_above, counter, max_depth)\n",
    "\n",
    "        if yes_answer == no_answer:\n",
    "          sub_tree = yes_answer\n",
    "        else:\n",
    "          sub_tree[question].append(yes_answer)\n",
    "          sub_tree[question].append(no_answer)\n",
    "\n",
    "        return sub_tree\n"
   ]
  },
  {
   "cell_type": "code",
   "execution_count": 13,
   "metadata": {
    "pycharm": {
     "name": "#%% CLASSIFICATION\n"
    }
   },
   "outputs": [],
   "source": [
    "def classify_example(example, tree):\n",
    "    question = list(tree.keys())[0]\n",
    "    feature_name, comparison_operator, value = question.split()\n",
    "\n",
    "    # ask question\n",
    "    if example[feature_name] <= float(value):\n",
    "        answer = tree[question][0]\n",
    "    else:\n",
    "        answer = tree[question][1]\n",
    "\n",
    "    # base case\n",
    "    if not isinstance(answer, dict):\n",
    "        return answer\n",
    "\n",
    "    # recursive part\n",
    "    else:\n",
    "        residual_tree = answer\n",
    "        return classify_example(example, residual_tree)"
   ]
  },
  {
   "cell_type": "code",
   "execution_count": 14,
   "metadata": {
    "pycharm": {
     "name": "#%% ACCURACY\n"
    }
   },
   "outputs": [],
   "source": [
    "def calculate_accuracy(df, tree):\n",
    "\n",
    "    df[\"classification\"] = df.apply(classify_example, axis=1, args=(tree,))\n",
    "    df[\"classification_correct\"] = df.classification == df.labels\n",
    "\n",
    "    accuracy = df[\"classification_correct\"].mean()\n",
    "\n",
    "    return accuracy"
   ]
  },
  {
   "cell_type": "code",
   "execution_count": 15,
   "metadata": {
    "pycharm": {
     "name": "#%% TESTING\n"
    }
   },
   "outputs": [
    {
     "name": "stdout",
     "output_type": "stream",
     "text": [
      "{'hull_rectangle_ratio <= 0.8077957412719301': [{'contour_length_area_ratio <= 0.037084545491365695': [{'contour_hull_length_ratio <= 1.1707387253861703': [1.0,\n",
      "                                                                                                                                                            {'contour_hull_length_ratio <= 1.2103389576690942': [0.0,\n",
      "                                                                                                                                                                                                                 1.0]}]},\n",
      "                                                                                                       {'contour_length_hull_area_ratio <= 0.07590293849917454': [{'hull_area <= 27251.75': [{'contour_hull_length_ratio <= 1.0966656424931571': [{'harris_corners <= 234.0': [{'contour_rect_length_ratio <= 0.9333884602156977': [0.0,\n",
      "                                                                                                                                                                                                                                                                                                                                    {'contour_length_hull_area_ratio <= 0.04077560883218964': [0.0,\n",
      "                                                                                                                                                                                                                                                                                                                                                                                               1.0]}]},\n",
      "                                                                                                                                                                                                                                                                               0.0]},\n",
      "                                                                                                                                                                                                                                                  0.0]},\n",
      "                                                                                                                                                                                             {'approximation_area <= 20661.0': [1.0,\n",
      "                                                                                                                                                                                                                                {'contour_rect_length_ratio <= 1.5296378701806639': [0.0,\n",
      "                                                                                                                                                                                                                                                                                     {'extent <= 0.4749298205307795': [1.0,\n",
      "                                                                                                                                                                                                                                                                                                                       0.0]}]}]}]},\n",
      "                                                                                                                                                                  {'solidity <= 0.7878038923333925': [{'extent <= 0.5769323809469905': [{'corners <= 56.5': [{'contour_hull_length_ratio <= 1.193545652534901': [1.0,\n",
      "                                                                                                                                                                                                                                                                                                                 {'hull_rectangle_ratio <= 0.7660567111244998': [0.0,\n",
      "                                                                                                                                                                                                                                                                                                                                                                 1.0]}]},\n",
      "                                                                                                                                                                                                                                                             1.0]},\n",
      "                                                                                                                                                                                                                                        0.0]},\n",
      "                                                                                                                                                                                                      1.0]}]}]},\n",
      "                                                {'hull_area <= 61007.75': [{'harris_corners <= 1164.5': [{'hull_rectangle_ratio <= 0.8395653368986642': [{'approximation_area <= 16743.25': [{'amount_contours <= 17.5': [{'contour_hull_length_ratio <= 1.7670344068139645': [0.0,\n",
      "                                                                                                                                                                                                                                                                               1.0]},\n",
      "                                                                                                                                                                                                                          {'solidity <= 0.7552759313999953': [{'hull_rectangle_ratio <= 0.8288385753022829': [0.0,\n",
      "                                                                                                                                                                                                                                                                                                              1.0]},\n",
      "                                                                                                                                                                                                                                                              1.0]}]},\n",
      "                                                                                                                                                                                             1.0]},\n",
      "                                                                                                                                                         {'solidity <= 0.9590580451374369': [{'extent <= 0.7395448179271709': [1.0,\n",
      "                                                                                                                                                                                                                               {'ratio_wide_length <= 2.0319047643461685': [{'ratio_wide_length <= 0.4838779736680545': [{'contour_length_hull_area_ratio <= 0.06363192183301347': [{'contour_length_rect_area_ratio <= 0.05082458456675549': [1.0,\n",
      "                                                                                                                                                                                                                                                                                                                                                                                                                                               0.0]},\n",
      "                                                                                                                                                                                                                                                                                                                                                                                    1.0]},\n",
      "                                                                                                                                                                                                                                                                                                                         {'approximation_area <= 31730.25': [0.0,\n",
      "                                                                                                                                                                                                                                                                                                                                                             1.0]}]},\n",
      "                                                                                                                                                                                                                                                                            1.0]}]},\n",
      "                                                                                                                                                                                             {'harris_corners <= 164.0': [{'harris_corners <= 160.5': [1.0,\n",
      "                                                                                                                                                                                                                                                       0.0]},\n",
      "                                                                                                                                                                                                                          1.0]}]}]},\n",
      "                                                                                                         0.0]},\n",
      "                                                                           {'harris_corners <= 263.0': [{'contour_hull_length_ratio <= 2.206227135361475': [{'corners <= 29.5': [{'amount_contours <= 3.5': [1.0,\n",
      "                                                                                                                                                                                                             0.0]},\n",
      "                                                                                                                                                                                 {'amount_contours <= 2.5': [{'corners <= 38.5': [{'contour_length_area_ratio <= 0.02866727318983256': [{'harris_corners <= 139.0': [0.0,\n",
      "                                                                                                                                                                                                                                                                                                                     {'hull_rectangle_ratio <= 0.999919261822376': [1.0,\n",
      "                                                                                                                                                                                                                                                                                                                                                                    0.0]}]},\n",
      "                                                                                                                                                                                                                                                                                        1.0]},\n",
      "                                                                                                                                                                                                                                  {'solidity <= 0.6629983481744399': [{'solidity <= 0.6282122260668974': [0.0,\n",
      "                                                                                                                                                                                                                                                                                                          1.0]},\n",
      "                                                                                                                                                                                                                                                                      0.0]}]},\n",
      "                                                                                                                                                                                                             {'hull_rectangle_ratio <= 0.9875816993464053': [0.0,\n",
      "                                                                                                                                                                                                                                                             {'contour_points <= 1899.0': [{'hull_rectangle_ratio <= 0.9998154555940023': [{'solidity <= 0.7993157130205117': [1.0,\n",
      "                                                                                                                                                                                                                                                                                                                                                                               0.0]},\n",
      "                                                                                                                                                                                                                                                                                                                                           1.0]},\n",
      "                                                                                                                                                                                                                                                                                           0.0]}]}]}]},\n",
      "                                                                                                                                                            1.0]},\n",
      "                                                                                                        {'amount_contours <= 1.5': [{'hull_rectangle_ratio <= 0.9997846981930028': [1.0,\n",
      "                                                                                                                                                                                    {'solidity <= 0.8698000768935025': [{'contour_hull_length_ratio <= 2.000195965665786': [{'contour_hull_length_ratio <= 1.5211575824840398': [1.0,\n",
      "                                                                                                                                                                                                                                                                                                                                 {'contour_hull_length_ratio <= 1.5913671332831476': [0.0,\n",
      "                                                                                                                                                                                                                                                                                                                                                                                      {'contour_points <= 1559.0': [1.0,\n",
      "                                                                                                                                                                                                                                                                                                                                                                                                                    0.0]}]}]},\n",
      "                                                                                                                                                                                                                                                                            1.0]},\n",
      "                                                                                                                                                                                                                        1.0]}]},\n",
      "                                                                                                                                    {'contour_points <= 1574.5': [{'extent <= 0.9755286428296809': [{'harris_corners <= 1236.5': [{'amount_contours <= 23.5': [{'contour_hull_length_ratio <= 1.6244520275671868': [1.0,\n",
      "                                                                                                                                                                                                                                                                                                                    {'hull_rectangle_ratio <= 0.9966514068414389': [1.0,\n",
      "                                                                                                                                                                                                                                                                                                                                                                    0.0]}]},\n",
      "                                                                                                                                                                                                                                                               0.0]},\n",
      "                                                                                                                                                                                                                                  0.0]},\n",
      "                                                                                                                                                                                                    0.0]},\n",
      "                                                                                                                                                                  {'harris_corners <= 634.0': [{'contour_hull_length_ratio <= 2.0501718154379365': [{'corners <= 46.0': [1.0,\n",
      "                                                                                                                                                                                                                                                                         {'contour_length_area_ratio <= 0.03208449054021553': [1.0,\n",
      "                                                                                                                                                                                                                                                                                                                               0.0]}]},\n",
      "                                                                                                                                                                                                                                                    1.0]},\n",
      "                                                                                                                                                                                               0.0]}]}]}]}]}]}\n"
     ]
    }
   ],
   "source": [
    "random.seed(0)\n",
    "train_df, test_df = train_test_split(df, 0.2)\n",
    "tree = decision_tree_algorithm(train_df)\n",
    "#tree = decision_tree_algorithm(train_df, max_depth=10)\n",
    "\n",
    "pprint.pprint(tree, width=50)"
   ]
  },
  {
   "cell_type": "code",
   "execution_count": 16,
   "metadata": {},
   "outputs": [
    {
     "name": "stdout",
     "output_type": "stream",
     "text": [
      "0.74375\n",
      "Accuracy:  74.375 %\n"
     ]
    }
   ],
   "source": [
    "accuracy = calculate_accuracy(test_df, tree)\n",
    "print(accuracy)\n",
    "accuracy_per = accuracy *100\n",
    "print(\"Accuracy: \", accuracy_per , \"%\")"
   ]
  },
  {
   "cell_type": "code",
   "execution_count": null,
   "metadata": {},
   "outputs": [],
   "source": []
  }
 ],
 "metadata": {
  "kernelspec": {
   "display_name": "Python 3",
   "language": "python",
   "name": "python3"
  },
  "language_info": {
   "codemirror_mode": {
    "name": "ipython",
    "version": 3
   },
   "file_extension": ".py",
   "mimetype": "text/x-python",
   "name": "python",
   "nbconvert_exporter": "python",
   "pygments_lexer": "ipython3",
   "version": "3.8.5"
  }
 },
 "nbformat": 4,
 "nbformat_minor": 1
}
