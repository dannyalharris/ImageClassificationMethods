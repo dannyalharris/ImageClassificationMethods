{
 "cells": [
  {
   "cell_type": "markdown",
   "metadata": {},
   "source": [
    "# Gaussian Naive Bayes Algorithm"
   ]
  },
  {
   "cell_type": "markdown",
   "metadata": {},
   "source": [
    "Convert the loaded data to numbers so that we can use it in the mean and standard deviation calculations."
   ]
  },
  {
   "cell_type": "code",
   "execution_count": 1,
   "metadata": {},
   "outputs": [],
   "source": [
    "# Naive Bayes On The Comb-Brush Dataset\n",
    "from csv import reader\n",
    "from random import seed\n",
    "from random import randrange\n",
    "from math import sqrt\n",
    "from math import exp\n",
    "from math import pi"
   ]
  },
  {
   "cell_type": "code",
   "execution_count": 2,
   "metadata": {},
   "outputs": [],
   "source": [
    "# Load a CSV file\n",
    "def load_csv(filename):\n",
    "    dataset = list()\n",
    "    with open(filename, 'r') as file:\n",
    "        csv_reader = reader(file)\n",
    "        for row in csv_reader:\n",
    "            if not row:\n",
    "                continue\n",
    "            dataset.append(row)\n",
    "    return dataset"
   ]
  },
  {
   "cell_type": "code",
   "execution_count": 3,
   "metadata": {},
   "outputs": [],
   "source": [
    "# Convert string column to float\n",
    "def str_column_to_float(dataset, column):\n",
    "    for row in dataset:\n",
    "        row[column] = float(row[column].strip())"
   ]
  },
  {
   "cell_type": "code",
   "execution_count": 4,
   "metadata": {},
   "outputs": [],
   "source": [
    "# Convert string column to integer\n",
    "def str_column_to_int(dataset, column):\n",
    "    class_values = [row[column] for row in dataset]\n",
    "    unique = set(class_values)\n",
    "    lookup = dict()\n",
    "    for i, value in enumerate(unique):\n",
    "        lookup[value] = i\n",
    "    for row in dataset:\n",
    "        row[column] = lookup[row[column]]\n",
    "    return lookup"
   ]
  },
  {
   "cell_type": "markdown",
   "metadata": {},
   "source": [
    "Evaluate the algorithm using k-fold cross-validation with 5 folds.\n",
    "This means that 150/5 = 30 records will be in each fold."
   ]
  },
  {
   "cell_type": "markdown",
   "metadata": {},
   "source": [
    "Cross-validation is a resamplling procedure used to evaluate machine learning models on a limited data sample.\n",
    "\n",
    "The procedure has a singe parameter alled k that refers to the number of groups that a givin data sample is to be split into.When a specific value for k is chosen, it may be used in place of k in the reference to th model, such as k=10 becoming 10-fold cross-validation. \n",
    "\n",
    "First, shuffle the dataset randomly, then split the dataset into k groups. For each unique group, we will take the group as a hod out or test data set, then take the remaining groups as a training data set, fit a model on the training set and evaluate it on the test set, next retain the evaluate score and discard the model. LAstly, summarize the skill of the model using the sample of model evalueation scores"
   ]
  },
  {
   "cell_type": "code",
   "execution_count": 5,
   "metadata": {},
   "outputs": [],
   "source": [
    "# Split a dataset into k folds\n",
    "def cross_validation_split(dataset, n_folds):\n",
    "    dataset_split = list()\n",
    "    dataset_copy = list(dataset)\n",
    "    fold_size = int(len(dataset) / n_folds)\n",
    "    for _ in range(n_folds):\n",
    "        fold = list()\n",
    "        while len(fold) < fold_size:\n",
    "            index = randrange(len(dataset_copy))\n",
    "            fold.append(dataset_copy.pop(index))\n",
    "        dataset_split.append(fold)\n",
    "    return dataset_split"
   ]
  },
  {
   "cell_type": "code",
   "execution_count": 6,
   "metadata": {},
   "outputs": [],
   "source": [
    "# Calculate accuracy percentage\n",
    "def accuracy_metric(actual, predicted):\n",
    "    correct = 0\n",
    "    for i in range(len(actual)):\n",
    "        if actual[i] == predicted[i]:\n",
    "            correct += 1\n",
    "    return correct / float(len(actual)) * 100.0"
   ]
  },
  {
   "cell_type": "code",
   "execution_count": 7,
   "metadata": {},
   "outputs": [],
   "source": [
    "# Evaluate an algorithm using a cross validation split\n",
    "def evaluate_algorithm(dataset, algorithm, n_folds, *args):\n",
    "    folds = cross_validation_split(dataset, n_folds)\n",
    "    scores = list()\n",
    "    for fold in folds:\n",
    "        train_set = list(folds)\n",
    "        train_set.remove(fold)\n",
    "        train_set = sum(train_set, [])\n",
    "        test_set = list()\n",
    "        for row in fold:\n",
    "            row_copy = list(row)\n",
    "            test_set.append(row_copy)\n",
    "            row_copy[-1] = None\n",
    "        predicted = algorithm(train_set, test_set, *args)\n",
    "        actual = [row[-1] for row in fold]\n",
    "        accuracy = accuracy_metric(actual, predicted)\n",
    "        scores.append(accuracy)\n",
    "    return scores"
   ]
  },
  {
   "cell_type": "code",
   "execution_count": 8,
   "metadata": {},
   "outputs": [],
   "source": [
    "# Split the dataset by class values, returns a dictionary\n",
    "def separate_by_class(dataset):\n",
    "    separated = dict()\n",
    "    for i in range(len(dataset)):\n",
    "        vector = dataset[i]\n",
    "        class_value = vector[-1]\n",
    "        if (class_value not in separated):\n",
    "            separated[class_value] = list()\n",
    "        separated[class_value].append(vector)\n",
    "    return separated"
   ]
  },
  {
   "cell_type": "code",
   "execution_count": 9,
   "metadata": {},
   "outputs": [],
   "source": [
    "# Calculate the mean of a list of numbers\n",
    "def mean(numbers):\n",
    "    return sum(numbers) / float(len(numbers))"
   ]
  },
  {
   "cell_type": "code",
   "execution_count": 10,
   "metadata": {},
   "outputs": [],
   "source": [
    "# Calculate the standard deviation of a list of numbers\n",
    "def stdev(numbers):\n",
    "    avg = mean(numbers)\n",
    "    variance = sum([(x - avg) ** 2 for x in numbers]) / float(len(numbers) - 1)\n",
    "    return sqrt(variance)"
   ]
  },
  {
   "cell_type": "code",
   "execution_count": 11,
   "metadata": {},
   "outputs": [],
   "source": [
    "# Calculate the mean, stdev and count for each column in a dataset\n",
    "def summarize_dataset(dataset):\n",
    "    summaries = [(mean(column), stdev(column), len(column)) for column in zip(*dataset)]\n",
    "    del (summaries[-1])\n",
    "    return summaries\n"
   ]
  },
  {
   "cell_type": "code",
   "execution_count": 12,
   "metadata": {},
   "outputs": [],
   "source": [
    "# Split dataset by class then calculate statistics for each row\n",
    "def summarize_by_class(dataset):\n",
    "    separated = separate_by_class(dataset)\n",
    "    summaries = dict()\n",
    "    for class_value, rows in separated.items():\n",
    "        summaries[class_value] = summarize_dataset(rows)\n",
    "    return summaries"
   ]
  },
  {
   "cell_type": "code",
   "execution_count": 13,
   "metadata": {},
   "outputs": [],
   "source": [
    "# Calculate the Gaussian probability distribution function for x\n",
    "def calculate_probability(x, mean, stdev):\n",
    "    exponent = exp(-((x - mean) ** 2 / (2 * stdev ** 2)))\n",
    "    return (1 / (sqrt(2 * pi) * stdev)) * exponent\n"
   ]
  },
  {
   "cell_type": "code",
   "execution_count": 14,
   "metadata": {},
   "outputs": [],
   "source": [
    "# Calculate the probabilities of predicting each class for a given row\n",
    "def calculate_class_probabilities(summaries, row):\n",
    "    total_rows = sum([summaries[label][0][2] for label in summaries])\n",
    "    probabilities = dict()\n",
    "    for class_value, class_summaries in summaries.items():\n",
    "        probabilities[class_value] = summaries[class_value][0][2] / float(total_rows)\n",
    "        for i in range(len(class_summaries)):\n",
    "            mean, stdev, _ = class_summaries[i]\n",
    "            probabilities[class_value] *= calculate_probability(row[i], mean, stdev)\n",
    "    return probabilities"
   ]
  },
  {
   "cell_type": "markdown",
   "metadata": {},
   "source": [
    "To manage the calculation of the probabilities of a new row beloging to each class and selecting the class with the largest probability value"
   ]
  },
  {
   "cell_type": "code",
   "execution_count": 15,
   "metadata": {},
   "outputs": [],
   "source": [
    "# Predict the class for a given row\n",
    "def predict(summaries, row):\n",
    "    probabilities = calculate_class_probabilities(summaries, row)\n",
    "    best_label, best_prob = None, -1\n",
    "    for class_value, probability in probabilities.items():\n",
    "        if best_label is None or probability > best_prob:\n",
    "            best_prob = probability\n",
    "            best_label = class_value\n",
    "    return best_label"
   ]
  },
  {
   "cell_type": "markdown",
   "metadata": {},
   "source": [
    "#### Naive Bayes Algorithm"
   ]
  },
  {
   "cell_type": "code",
   "execution_count": 16,
   "metadata": {},
   "outputs": [],
   "source": [
    "# Naive Bayes Algorithm\n",
    "def naive_bayes(train, test):\n",
    "    summarize = summarize_by_class(train)\n",
    "    predictions = list()\n",
    "    for row in test:\n",
    "        output = predict(summarize, row)\n",
    "        predictions.append(output)\n",
    "    return (predictions)\n"
   ]
  },
  {
   "cell_type": "markdown",
   "metadata": {},
   "source": [
    "#### Test with Data"
   ]
  },
  {
   "cell_type": "code",
   "execution_count": 17,
   "metadata": {},
   "outputs": [
    {
     "name": "stdout",
     "output_type": "stream",
     "text": [
      "Scores: [57.49999999999999, 71.25, 68.75, 64.375, 64.375]\n",
      "Mean Accuracy: 65.250%\n"
     ]
    }
   ],
   "source": [
    "# Test Naive Bayes on Comb-Brush Dataset\n",
    "seed(1)\n",
    "filename = 'data.csv'\n",
    "dataset = load_csv(filename)\n",
    "for i in range(len(dataset[0]) - 1):\n",
    "    str_column_to_float(dataset, i)\n",
    "# convert class column to integers\n",
    "str_column_to_int(dataset, len(dataset[0]) - 1)\n",
    "# evaluate algorithm\n",
    "n_folds = 5\n",
    "scores = evaluate_algorithm(dataset, naive_bayes, n_folds)\n",
    "print('Scores: %s' % scores)\n",
    "print('Mean Accuracy: %.3f%%' % (sum(scores) / float(len(scores))))"
   ]
  },
  {
   "cell_type": "markdown",
   "metadata": {},
   "source": [
    "### Compare Naive Bayes with sklearn"
   ]
  },
  {
   "cell_type": "code",
   "execution_count": 18,
   "metadata": {},
   "outputs": [
    {
     "name": "stdout",
     "output_type": "stream",
     "text": [
      "X:  (799, 17) y:  (799,)\n"
     ]
    }
   ],
   "source": [
    "from sklearn.model_selection import train_test_split\n",
    "from sklearn.linear_model import LinearRegression\n",
    "from sklearn.metrics import mean_squared_error\n",
    "\n",
    "import matplotlib.pyplot as plt\n",
    "import sklearn\n",
    "import pandas as pd\n",
    "\n",
    "dataset = pd.read_csv('data.csv')\n",
    "\n",
    "X = dataset.iloc[:,:-1]\n",
    "y = dataset.iloc[:,-1]\n",
    "print('X: ', X.shape, 'y: ',y.shape)"
   ]
  },
  {
   "cell_type": "code",
   "execution_count": 19,
   "metadata": {},
   "outputs": [
    {
     "name": "stdout",
     "output_type": "stream",
     "text": [
      "X_train:  (639, 17) y_train:  (639,)\n",
      "X_test:  (160, 17) y_test: (160,)\n"
     ]
    }
   ],
   "source": [
    "from sklearn.model_selection import train_test_split\n",
    "\n",
    "X_train, X_test, y_train, y_test = train_test_split(X,y,test_size=0.2, random_state = 42)\n",
    "\n",
    "print('X_train: ', X_train.shape, 'y_train: ',y_train.shape)\n",
    "print('X_test: ', X_test.shape, 'y_test:', y_test.shape)"
   ]
  },
  {
   "cell_type": "code",
   "execution_count": 20,
   "metadata": {},
   "outputs": [
    {
     "data": {
      "text/html": [
       "<div>\n",
       "<style scoped>\n",
       "    .dataframe tbody tr th:only-of-type {\n",
       "        vertical-align: middle;\n",
       "    }\n",
       "\n",
       "    .dataframe tbody tr th {\n",
       "        vertical-align: top;\n",
       "    }\n",
       "\n",
       "    .dataframe thead th {\n",
       "        text-align: right;\n",
       "    }\n",
       "</style>\n",
       "<table border=\"1\" class=\"dataframe\">\n",
       "  <thead>\n",
       "    <tr style=\"text-align: right;\">\n",
       "      <th></th>\n",
       "      <th>676</th>\n",
       "      <th>3</th>\n",
       "      <th>20729.54524463974</th>\n",
       "      <th>14977.0</th>\n",
       "      <th>10152.5</th>\n",
       "      <th>789.4945094585419</th>\n",
       "      <th>53</th>\n",
       "      <th>901</th>\n",
       "      <th>3.3993290006917114</th>\n",
       "      <th>0.07731046900299078</th>\n",
       "      <th>0.038085471733283194</th>\n",
       "      <th>0.05271379511641463</th>\n",
       "      <th>1.1490379934398853</th>\n",
       "      <th>1.3183012217982621</th>\n",
       "      <th>0.492630199046003</th>\n",
       "      <th>0.6818454964278561</th>\n",
       "      <th>0.7224953477391292</th>\n",
       "    </tr>\n",
       "  </thead>\n",
       "  <tbody>\n",
       "    <tr>\n",
       "      <th>264</th>\n",
       "      <td>640</td>\n",
       "      <td>2</td>\n",
       "      <td>21178.651126</td>\n",
       "      <td>15945.5</td>\n",
       "      <td>13175.0</td>\n",
       "      <td>778.347322</td>\n",
       "      <td>46</td>\n",
       "      <td>417</td>\n",
       "      <td>4.743048</td>\n",
       "      <td>0.059019</td>\n",
       "      <td>0.036752</td>\n",
       "      <td>0.048813</td>\n",
       "      <td>1.014100</td>\n",
       "      <td>1.142181</td>\n",
       "      <td>0.622703</td>\n",
       "      <td>0.827067</td>\n",
       "      <td>0.752904</td>\n",
       "    </tr>\n",
       "    <tr>\n",
       "      <th>615</th>\n",
       "      <td>889</td>\n",
       "      <td>3</td>\n",
       "      <td>36210.000000</td>\n",
       "      <td>32894.0</td>\n",
       "      <td>30312.5</td>\n",
       "      <td>931.663994</td>\n",
       "      <td>45</td>\n",
       "      <td>513</td>\n",
       "      <td>0.556863</td>\n",
       "      <td>0.030738</td>\n",
       "      <td>0.025729</td>\n",
       "      <td>0.028323</td>\n",
       "      <td>1.173380</td>\n",
       "      <td>1.234285</td>\n",
       "      <td>0.837048</td>\n",
       "      <td>0.921429</td>\n",
       "      <td>0.908423</td>\n",
       "    </tr>\n",
       "    <tr>\n",
       "      <th>329</th>\n",
       "      <td>1745</td>\n",
       "      <td>18</td>\n",
       "      <td>65025.000000</td>\n",
       "      <td>65025.0</td>\n",
       "      <td>51143.5</td>\n",
       "      <td>1836.541192</td>\n",
       "      <td>100</td>\n",
       "      <td>909</td>\n",
       "      <td>1.000000</td>\n",
       "      <td>0.035993</td>\n",
       "      <td>0.028244</td>\n",
       "      <td>0.028244</td>\n",
       "      <td>1.800531</td>\n",
       "      <td>1.800531</td>\n",
       "      <td>0.784706</td>\n",
       "      <td>0.784706</td>\n",
       "      <td>1.000000</td>\n",
       "    </tr>\n",
       "    <tr>\n",
       "      <th>342</th>\n",
       "      <td>1084</td>\n",
       "      <td>4</td>\n",
       "      <td>27920.889339</td>\n",
       "      <td>21999.5</td>\n",
       "      <td>18471.5</td>\n",
       "      <td>1238.915863</td>\n",
       "      <td>100</td>\n",
       "      <td>509</td>\n",
       "      <td>0.317864</td>\n",
       "      <td>0.066544</td>\n",
       "      <td>0.044372</td>\n",
       "      <td>0.056316</td>\n",
       "      <td>1.585979</td>\n",
       "      <td>1.828082</td>\n",
       "      <td>0.666813</td>\n",
       "      <td>0.846292</td>\n",
       "      <td>0.787923</td>\n",
       "    </tr>\n",
       "    <tr>\n",
       "      <th>394</th>\n",
       "      <td>537</td>\n",
       "      <td>2</td>\n",
       "      <td>16047.130532</td>\n",
       "      <td>12288.5</td>\n",
       "      <td>10225.0</td>\n",
       "      <td>658.364567</td>\n",
       "      <td>52</td>\n",
       "      <td>301</td>\n",
       "      <td>0.202755</td>\n",
       "      <td>0.064391</td>\n",
       "      <td>0.041027</td>\n",
       "      <td>0.053576</td>\n",
       "      <td>0.972852</td>\n",
       "      <td>1.094513</td>\n",
       "      <td>0.637154</td>\n",
       "      <td>0.832038</td>\n",
       "      <td>0.765776</td>\n",
       "    </tr>\n",
       "  </tbody>\n",
       "</table>\n",
       "</div>"
      ],
      "text/plain": [
       "      676   3  20729.54524463974  14977.0  10152.5  789.4945094585419   53  \\\n",
       "264   640   2       21178.651126  15945.5  13175.0         778.347322   46   \n",
       "615   889   3       36210.000000  32894.0  30312.5         931.663994   45   \n",
       "329  1745  18       65025.000000  65025.0  51143.5        1836.541192  100   \n",
       "342  1084   4       27920.889339  21999.5  18471.5        1238.915863  100   \n",
       "394   537   2       16047.130532  12288.5  10225.0         658.364567   52   \n",
       "\n",
       "     901  3.3993290006917114  0.07731046900299078  0.038085471733283194  \\\n",
       "264  417            4.743048             0.059019              0.036752   \n",
       "615  513            0.556863             0.030738              0.025729   \n",
       "329  909            1.000000             0.035993              0.028244   \n",
       "342  509            0.317864             0.066544              0.044372   \n",
       "394  301            0.202755             0.064391              0.041027   \n",
       "\n",
       "     0.05271379511641463  1.1490379934398853  1.3183012217982621  \\\n",
       "264             0.048813            1.014100            1.142181   \n",
       "615             0.028323            1.173380            1.234285   \n",
       "329             0.028244            1.800531            1.800531   \n",
       "342             0.056316            1.585979            1.828082   \n",
       "394             0.053576            0.972852            1.094513   \n",
       "\n",
       "     0.492630199046003  0.6818454964278561  0.7224953477391292  \n",
       "264           0.622703            0.827067            0.752904  \n",
       "615           0.837048            0.921429            0.908423  \n",
       "329           0.784706            0.784706            1.000000  \n",
       "342           0.666813            0.846292            0.787923  \n",
       "394           0.637154            0.832038            0.765776  "
      ]
     },
     "execution_count": 20,
     "metadata": {},
     "output_type": "execute_result"
    }
   ],
   "source": [
    "X_train.head()"
   ]
  },
  {
   "cell_type": "code",
   "execution_count": 21,
   "metadata": {},
   "outputs": [
    {
     "name": "stdout",
     "output_type": "stream",
     "text": [
      "Accuracy Bayes: 0.6\n"
     ]
    }
   ],
   "source": [
    "from sklearn.naive_bayes import GaussianNB\n",
    "from sklearn.metrics import accuracy_score\n",
    "\n",
    "bkbayes_clf = GaussianNB()\n",
    "\n",
    "bkbayes_clf.fit(X_train, y_train)\n",
    "\n",
    "print('Accuracy Bayes:', bkbayes_clf.score(X_test, y_test))"
   ]
  },
  {
   "cell_type": "code",
   "execution_count": null,
   "metadata": {},
   "outputs": [],
   "source": []
  }
 ],
 "metadata": {
  "kernelspec": {
   "display_name": "Python 3",
   "language": "python",
   "name": "python3"
  },
  "language_info": {
   "codemirror_mode": {
    "name": "ipython",
    "version": 3
   },
   "file_extension": ".py",
   "mimetype": "text/x-python",
   "name": "python",
   "nbconvert_exporter": "python",
   "pygments_lexer": "ipython3",
   "version": "3.8.5"
  }
 },
 "nbformat": 4,
 "nbformat_minor": 4
}
